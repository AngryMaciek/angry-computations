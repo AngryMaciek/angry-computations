{
 "cells": [
  {
   "cell_type": "markdown",
   "id": "1765e140-ff2e-443f-89d5-3e712da02084",
   "metadata": {},
   "source": [
    "# [Session 1] Toolkit"
   ]
  },
  {
   "cell_type": "markdown",
   "id": "4014b155-778e-4c91-b3d4-5d40e2d9d671",
   "metadata": {},
   "source": [
    "Throughout the first session we shall introduce a few useful libraries and present how to interact with them. Treat the following as a collection of utilities which could be later applied in combination with all techniques presented later."
   ]
  },
  {
   "cell_type": "markdown",
   "id": "6438c5a8-1bb0-4be1-b109-a707420f9cbe",
   "metadata": {},
   "source": [
    "## Data handling"
   ]
  },
  {
   "cell_type": "markdown",
   "id": "36c30cd0-d537-49f7-8270-ab8fc61a3bd9",
   "metadata": {},
   "source": [
    "For all IO operations in this course we will `#include <iostream>` library.\n",
    "Also, we will utilise syntax constructions from the _C++17_ standard thus `--std=c++17` is added as a compilation flag in all commands below.\n",
    "\n",
    "In case of very simple programs with one input and one output file the fastests approach is to use provide file paths with `>` and `<` shell operators during binary execution. Input is then caught with `std::cin`, output is printed with `std::cout`. The easiest (but clean!) solution is usually a good start, especially during the prototyping phase. Such operations may be later polished out in the final code refactoring.\n",
    "\n",
    "This is a general remark: developers should be mindful and avoid overcommiting to a specific technology/solution in in initial phases of a project. It is especially important for scientsts, for whom data exploration, cleaning and testing of various approaches may take up a significant part of a project's timeline.\n",
    "\n",
    "Remember: _**Premature optimisation is the root of all evil** ~[Tony Hoare](https://en.wikipedia.org/wiki/Tony_Hoare)_"
   ]
  },
  {
   "cell_type": "markdown",
   "id": "2856cfb8-b248-47fe-a799-ebca4c03cdb6",
   "metadata": {},
   "source": [
    "### Manual IO through streams"
   ]
  },
  {
   "cell_type": "markdown",
   "id": "c5ba8509-116c-489f-a234-778c9191fdce",
   "metadata": {},
   "source": [
    "In case of multiple input/output files passing them all with shell operators becomes cumbersome.\n",
    "\n",
    "Let us take a look at the code of `example1.cpp`:"
   ]
  },
  {
   "cell_type": "markdown",
   "id": "1a31ac4c-5e31-4f0d-a175-e8a7ab20d44c",
   "metadata": {},
   "source": [
    "```cpp\n",
    "\n",
    "#include <iostream>\n",
    "#include <fstream>\n",
    "#include <sstream>\n",
    "#include <vector>\n",
    "```"
   ]
  },
  {
   "cell_type": "markdown",
   "id": "45feb48a",
   "metadata": {},
   "source": [
    "Notice the inclusion of standard libraries for file and string streams operations.\n",
    "\n",
    "These are quite useful for the construction below which will generate path to a fixed input file regardless of our current `$PWD`:"
   ]
  },
  {
   "cell_type": "markdown",
   "id": "19a30bc5-2b9b-440c-a5fe-d44f09f35f53",
   "metadata": {},
   "source": [
    "```cpp\n",
    "\n",
    "// construct PWD-independent path to the input file\n",
    "std::filesystem::path CWD = std::filesystem::current_path();\n",
    "std::filesystem::path EXECPATH = (CWD / argv[0]).parent_path();\n",
    "std::ifstream file(EXECPATH / \"data/vector.txt\");\n",
    "```"
   ]
  },
  {
   "cell_type": "markdown",
   "id": "68de1e46-2875-4f01-acb2-317bab38f89f",
   "metadata": {},
   "source": [
    "What follows after is the main logic: reading a text file (a vector of floating-point numbers specified in one column) line by line into a `vector` of type `float`. Notice closing the file handle opened just above. Finally we iterate over the data vector and print the values into the standard output stream."
   ]
  },
  {
   "cell_type": "markdown",
   "id": "6dd8ab0e-3511-40d9-885d-13db31ac96cf",
   "metadata": {},
   "source": [
    "```cpp\n",
    "\n",
    "std::vector<float> data;\n",
    "std::string line;\n",
    "float temp;\n",
    "\n",
    "while (std::getline(file, line)){\n",
    "    std::istringstream ss(line);\n",
    "    if (ss >> temp) data.push_back(temp);\n",
    "}\n",
    "file.close();\n",
    "\n",
    "for (const float& value : data){\n",
    "    std::cout << value << std::endl;\n",
    "}\n",
    "```"
   ]
  },
  {
   "cell_type": "markdown",
   "id": "e3f15f52-8d31-4109-a9f5-332c41339785",
   "metadata": {},
   "source": [
    "Please compile and execute this test program with:\n",
    "\n",
    "```\n",
    "g++ example1.cpp -o example1 --std=c++17  && ./example1\n",
    "```"
   ]
  },
  {
   "cell_type": "markdown",
   "id": "09ac1852-9e45-4fa8-8ddc-caff28880541",
   "metadata": {},
   "source": [
    "Reading a CSV-formatted table is quite similar: see the code of `example2.cpp`:"
   ]
  },
  {
   "cell_type": "markdown",
   "id": "eaac88e5-3536-4cbd-accc-23cadb689d44",
   "metadata": {},
   "source": [
    "```cpp\n",
    "\n",
    "#include <iostream>\n",
    "#include <fstream>\n",
    "#include <sstream>\n",
    "#include <vector>\n",
    "\n",
    "int main(int argc, char* argv[]){\n",
    "\n",
    "    std::vector<std::vector<float>> data;\n",
    "    std::string line;\n",
    "    float temp;\n",
    "\n",
    "    // construct PWD-independent path to the input file\n",
    "    std::filesystem::path CWD = std::filesystem::current_path();\n",
    "    std::filesystem::path EXECPATH = (CWD / argv[0]).parent_path();\n",
    "    std::ifstream file(EXECPATH / \"data/matrix.csv\");\n",
    "\n",
    "    while (std::getline(file, line)){\n",
    "        std::istringstream ss(line);\n",
    "        std::vector<float> row;\n",
    "        while (ss >> temp){\n",
    "            row.push_back(temp);\n",
    "            if (ss.peek() == ',') ss.ignore();\n",
    "        }\n",
    "        data.push_back(row);\n",
    "    }\n",
    "    file.close();\n",
    "\n",
    "    for (const std::vector<float>& row : data){\n",
    "        for (int i=0; i<row.size(); ++i){\n",
    "            std::cout << row[i];\n",
    "            if (i!=row.size()-1) std::cout << \",\";\n",
    "        }\n",
    "        std::cout << std::endl;\n",
    "    }\n",
    "\n",
    "    return 0;\n",
    "}\n",
    "\n",
    "```"
   ]
  },
  {
   "cell_type": "markdown",
   "id": "488d17fa-5dfb-4cef-9430-680f00bb0a0d",
   "metadata": {},
   "source": [
    "In the case of a CSV file with a matrix of numbers:\n",
    "* we store the data in a `vector` of `vectors` of `floats`\n",
    "* each line we read we split by the comma character\n",
    "* printing out the data is additionally complicated by including the comma in-between the vector elements but not at the end of each \"row\""
   ]
  },
  {
   "cell_type": "markdown",
   "id": "8d51cb92-ab24-4689-a709-3a7a196d74d2",
   "metadata": {},
   "source": [
    "Please compile and execute this test program with:\n",
    "\n",
    "```\n",
    "g++ example2.cpp -o example2 --std=c++17  && ./example2\n",
    "```"
   ]
  },
  {
   "cell_type": "markdown",
   "id": "51de3def-8f8b-44d7-b588-f6d83233f74b",
   "metadata": {},
   "source": [
    "### readcsv library"
   ]
  },
  {
   "cell_type": "markdown",
   "id": "42fd1d99-1df1-4045-b9a6-38a86400e2c6",
   "metadata": {},
   "source": [
    "It is generally a good practice to utilise available code libraries whenever possible, especially for more tedious tasks. Luckily, reading and writing text files is one of such cases. Please take note of [rapidcsv](https://github.com/d99kris/rapidcsv) - a one-file, header-only _C++_ library which is publicly available. We shall try it out to interact with text files through its own interfaces.\n",
    "\n",
    "Remember to always check the license of open source code you use. In this case the library is under [BSD-3 Clause](https://choosealicense.com/licenses/bsd-3-clause/) which specifies the obligation to include the copyright notice upon code re-distribution.\n",
    "\n",
    "Following the repository's README:\n",
    "\n",
    "> Simply copy src/rapidcsv.h to your project/include directory and include it.\n",
    "\n",
    "We will thus download the latest release of the project (at the time of writting that is `8.77`) into our current working directory, uncompress it and later specify the path to its core file to the compiler:\n",
    "\n",
    "```\n",
    "wget https://github.com/d99kris/rapidcsv/archive/refs/tags/v8.77.zip\n",
    "\n",
    "unzip v8.77.zip\n",
    "```\n"
   ]
  },
  {
   "cell_type": "markdown",
   "id": "b0961fd2",
   "metadata": {},
   "source": [
    "Let us break down the sections of `example3.cpp`.\n",
    "\n",
    "In the first one (below) we construct a `doc` object, instance of the main library class: `Document`. This will serve as a data handle, as the class defines various functions to retrieve the file's contents."
   ]
  },
  {
   "cell_type": "markdown",
   "id": "112a5ef6-b1f5-4135-98ef-6276237be475",
   "metadata": {},
   "source": [
    "```cpp\n",
    "\n",
    "// construct PWD-independent path to the input file\n",
    "std::filesystem::path CWD = std::filesystem::current_path();\n",
    "std::filesystem::path EXECPATH = (CWD / argv[0]).parent_path();\n",
    "rapidcsv::Document doc(\n",
    "    EXECPATH / \"data/matrix.csv\",\n",
    "    rapidcsv::LabelParams(-1, -1),\n",
    "    rapidcsv::SeparatorParams(',')\n",
    ");\n",
    "\n",
    "int numRows = doc.GetRowCount();\n",
    "int numColumns = doc.GetColumnCount();\n",
    "```"
   ]
  },
  {
   "cell_type": "markdown",
   "id": "745312f1",
   "metadata": {},
   "source": [
    "What follows next is a standard data parsing; this time into a two-dimensional `float` array. As we do not use the built-in `vector` standard library manual memory management is required."
   ]
  },
  {
   "cell_type": "markdown",
   "id": "cded07ee",
   "metadata": {},
   "source": [
    "```cpp\n",
    "\n",
    "    float** data = new float*[numRows];\n",
    "    for (int row = 0; row < numRows; ++row) data[row] = new float[numColumns];\n",
    "\n",
    "    for (int row=0; row<numRows; ++row)\n",
    "        for (int col=0; col<numColumns; ++col)\n",
    "            data[row][col] = doc.GetCell<float>(col, row);\n",
    "\n",
    "    for (int row = 0; row < numRows; ++row) delete[] data[row];\n",
    "    delete[] data;\n",
    "```"
   ]
  },
  {
   "cell_type": "markdown",
   "id": "1234147a",
   "metadata": {},
   "source": [
    "The final section presents how to iterate over columns of the `doc` object, construct `vector<float>` instances ouf of them and iterate over each of the elements in the vectors, printing it."
   ]
  },
  {
   "cell_type": "markdown",
   "id": "c05a0465",
   "metadata": {},
   "source": [
    "```cpp\n",
    "\n",
    "    for (int i=0; i<numColumns; ++i){\n",
    "        std::vector<float> col = doc.GetColumn<float>(i);\n",
    "        for (const float& value : col) std::cout << value << std::endl;\n",
    "        std::cout << \"===\" << std::endl;\n",
    "\n",
    "    }\n",
    "```"
   ]
  },
  {
   "cell_type": "markdown",
   "id": "2ea73020-90bb-4c1a-9747-a74aeccd1aee",
   "metadata": {},
   "source": [
    "Please compile and execute this test program with:\n",
    "\n",
    "```\n",
    "g++ example3.cpp -Irapidcsv-8.77/src -o example3 --std=c++17  && ./example3\n",
    "```\n",
    "\n",
    "Note the `-I` flag pointing to the library directory mentioned previously.\n",
    "\n",
    "More [concrete examples](https://github.com/d99kris/rapidcsv/blob/master/README.md#example-usage) as well as an [API documention](https://github.com/d99kris/rapidcsv/blob/master/doc/README.md) are available on _GitHub_."
   ]
  },
  {
   "cell_type": "markdown",
   "id": "67b41f00-3989-4f0d-9ccf-39d9c3b16fd0",
   "metadata": {},
   "source": [
    "## Unit testing"
   ]
  },
  {
   "cell_type": "markdown",
   "id": "7ca9e2fe-ed65-4002-811a-9a3b549a2ac1",
   "metadata": {},
   "source": [
    "Catch2: https://github.com/catchorg/Catch2"
   ]
  },
  {
   "cell_type": "markdown",
   "id": "34989128-5fc6-4046-b519-0d1d0c3c3974",
   "metadata": {},
   "source": [
    "https://github.com/catchorg/Catch2/blob/devel/docs/benchmarks.md\n",
    "\n",
    "https://github.com/catchorg/Catch2/blob/devel/docs/command-line.md#specify-the-number-of-benchmark-samples-to-collect\n",
    "\n",
    "https://github.com/catchorg/Catch2/blob/devel/docs/Readme.md"
   ]
  },
  {
   "cell_type": "markdown",
   "id": "a0ca5976-5a9c-4046-93a8-06c0ae99b6b6",
   "metadata": {},
   "source": [
    "Whenever running unit tests with _Catch2_ your code should be divoded into three files:\n",
    "1. _Catch2_ itself (above)\n",
    "2. Your source code (below)\n",
    "3. Tests (below below)\n",
    "\n",
    "Let us first inspect `example4src.cpp`:"
   ]
  },
  {
   "cell_type": "markdown",
   "id": "70833bb3-8652-4a3c-8280-13cf82c877a3",
   "metadata": {},
   "source": [
    "```cpp\n",
    "\n",
    "#include <cmath>\n",
    "#include <cstdlib>\n",
    "#include <ctime>\n",
    "\n",
    "float F(float x){\n",
    "    return (2*x + pow(2,x)) / x;\n",
    "}\n",
    "\n",
    "int G(int seed=time(nullptr)){\n",
    "    srand(seed);\n",
    "    return 1 + std::rand() % 100;\n",
    "}\n",
    "```"
   ]
  },
  {
   "cell_type": "markdown",
   "id": "2629f1f7",
   "metadata": {},
   "source": [
    "These are two simple functions we would like to design tests for.\n",
    "\n",
    "The first one implements a mathematical function $F(x) = \\frac{2x + 2^x}{x}$\n",
    "\n",
    "The second one returns a pseudo-random number between 1 and 100. Notice the RNG seed set to the function argument with a default based on the current system time allowing us to fix the pseudo-random number generation process for unit tests.\n",
    "\n",
    "The final ingredient is the test file containing all test cases and assertions. See the content of `example4test.cpp`. The first section specifies other files which we include: our source code and the header file (`.hpp`) of the _Catch2_ framework are mandatory; `limits` is included only to detect a division by zero with `std::isinf()`.\n",
    "\n",
    "\n",
    "We will not go over the whole documentation of the framework "
   ]
  },
  {
   "cell_type": "markdown",
   "id": "d6b7d473-30b0-4642-972b-b0003c98d0cd",
   "metadata": {},
   "source": [
    "```cpp\n",
    "\n",
    "#include <limits>\n",
    "#include \"example4src.cpp\"\n",
    "#include \"catch_amalgamated.hpp\"\n",
    "```"
   ]
  },
  {
   "cell_type": "markdown",
   "id": "d7bbaf95",
   "metadata": {},
   "source": [
    "Simply put: each unit test case contains: a name, a tag and a kind of assertion (or multiple) inside its body:"
   ]
  },
  {
   "cell_type": "markdown",
   "id": "0ff453c8",
   "metadata": {},
   "source": [
    "```cpp\n",
    "\n",
    "TEST_CASE(\n",
    "    \"F: Execution\",\n",
    "    \"[F]\"\n",
    "){\n",
    "    REQUIRE_NOTHROW ( F(1) );\n",
    "    REQUIRE ( std::isinf(F(0)) );\n",
    "\n",
    "}\n",
    "```"
   ]
  },
  {
   "cell_type": "markdown",
   "id": "f5ad1c66",
   "metadata": {},
   "source": [
    "Specifying approximate targets is especially useful for testing code designed for data processing:"
   ]
  },
  {
   "cell_type": "markdown",
   "id": "c8c4b517",
   "metadata": {},
   "source": [
    "```cpp\n",
    "\n",
    "TEST_CASE(\n",
    "    \"F: Result\",\n",
    "    \"[F]\"\n",
    "){\n",
    "    REQUIRE ( F(2) == 4.0 );\n",
    "    Catch::Approx target = Catch::Approx(12.0).epsilon(0.1);\n",
    "    REQUIRE ( F(5.86) == target );\n",
    "}\n",
    "```"
   ]
  },
  {
   "cell_type": "markdown",
   "id": "41ba13c2",
   "metadata": {},
   "source": [
    "In order to benchmark execution time of a given objective function we need to use the `BENCHMARK` keyword; more information on benchmarking [here](google.com)."
   ]
  },
  {
   "cell_type": "markdown",
   "id": "34f21230",
   "metadata": {},
   "source": [
    "```cpp\n",
    "\n",
    "TEST_CASE(\n",
    "    \"F: Simple Benchmarking\",\n",
    "    \"[F]\"\n",
    "){\n",
    "    BENCHMARK( \"0.1\" ) { return F(0.1); };\n",
    "    BENCHMARK( \"10\" ) { return F(10); };\n",
    "    BENCHMARK( \"-7\" ) { return F(-7); };\n",
    "}\n",
    "```"
   ]
  },
  {
   "cell_type": "markdown",
   "id": "b765997d",
   "metadata": {},
   "source": [
    "Lastly, we test the RNG-related function specifying our custom seed:"
   ]
  },
  {
   "cell_type": "markdown",
   "id": "b1e56896",
   "metadata": {},
   "source": [
    "```cpp\n",
    "\n",
    "TEST_CASE(\n",
    "    \"G: Fix-RNG\",\n",
    "    \"[G]\"\n",
    "){\n",
    "    REQUIRE ( G(0) == 31 );\n",
    "}\n",
    "```"
   ]
  },
  {
   "cell_type": "markdown",
   "id": "85431816-eaed-4773-b976-c0dfefd21312",
   "metadata": {},
   "source": [
    "When it comes to compilation: `catch_amalgamated.cpp` file is the program's entrypoint - it contains the `main()` function and it automatically detects all `TEST_CASES` you specify in your custom source code. You should provide both of them to the compiler:\n",
    "\n",
    "```\n",
    "g++ example4test.cpp catch_amalgamated.cpp  -o example4 --std=c++17\n",
    "```\n",
    "\n",
    "During the program's execution it is a good idea to specify various _Catch2_ flags. \n",
    "\n",
    "```\n",
    "./example4 --durations yes --benchmark-samples 100 --benchmark-resamples 100000\n",
    "```"
   ]
  },
  {
   "cell_type": "markdown",
   "id": "a62813af-623b-4bff-808a-2f12d8688532",
   "metadata": {},
   "source": [
    "## Real Analysis"
   ]
  },
  {
   "cell_type": "code",
   "execution_count": null,
   "id": "40442714-e6a5-4849-94f1-192aa2fc4ca9",
   "metadata": {},
   "outputs": [],
   "source": []
  },
  {
   "cell_type": "markdown",
   "id": "0f778ee6-3f5f-4b98-9c1c-3e806541af3d",
   "metadata": {},
   "source": [
    "### Boost"
   ]
  },
  {
   "cell_type": "markdown",
   "id": "46c51615-5ed5-4102-8257-76f6319415fc",
   "metadata": {},
   "source": [
    "https://github.com/pulver/autodiff"
   ]
  },
  {
   "cell_type": "markdown",
   "id": "b8030309-18a7-4549-bf31-f5c4b8d70469",
   "metadata": {},
   "source": [
    "https://www.boost.org/doc/libs/1_65_0/libs/math/doc/html/math_toolkit/roots/brent_minima.html"
   ]
  },
  {
   "cell_type": "markdown",
   "id": "c8161b40-ce97-4bf5-9b8e-60f242ec659f",
   "metadata": {},
   "source": [
    "```cpp\n",
    "#include <iostream>\n",
    "#include <boost/math/differentiation/autodiff.hpp>\n",
    "#include <boost/math/tools/minima.hpp>\n",
    "\n",
    "template <typename T>\n",
    "T x4(T const& x){\n",
    "  T x4 = x * x;\n",
    "  x4 *= x4;\n",
    "  return x4;\n",
    "}\n",
    "\n",
    "struct F{\n",
    "  double operator()(double const& x){\n",
    "    return (x + 3) * (x - 1) * (x - 1);\n",
    "  }\n",
    "};\n",
    "\n",
    "int main(){\n",
    "\n",
    "  // automatic differentiation\n",
    "  constexpr unsigned ord = 5;\n",
    "  double arg = 0.1;\n",
    "  auto const x = boost::math::differentiation::make_fvar<double, ord>(arg);\n",
    "  auto const y = x4(x);\n",
    "  for (unsigned i=0; i<=ord; ++i)\n",
    "    std::cout <<\n",
    "      \"d(\" << i << \")/dx [x^4] | x=\" << arg << \" | = \" << y.derivative(i)\n",
    "      << std::endl;\n",
    "\n",
    "  std::cout << \"=====\" << std::endl;\n",
    "\n",
    "  // mimimum search\n",
    "  int bits = std::numeric_limits<double>::digits;\n",
    "  double lower = -4.0;\n",
    "  double upper = 4.0 / 3;\n",
    "  std::pair<double, double> r = boost::math::tools::brent_find_minima(\n",
    "    F(), lower, upper, bits\n",
    "  );\n",
    "  std::cout.precision(std::numeric_limits<double>::digits10);\n",
    "  std::cout << \"   min[F(x)] = \" << r.second << std::endl;\n",
    "  std::cout << \"minarg[F(x)] = \" << r.first << std::endl;\n",
    "\n",
    "  return 0;\n",
    "}\n",
    "\n",
    "```"
   ]
  },
  {
   "cell_type": "markdown",
   "id": "8822a02d-6bc2-4fda-838b-bc26ce49cb51",
   "metadata": {},
   "source": [
    "g++ example5.cpp -o example5 --std=c++17  && ./example5"
   ]
  },
  {
   "cell_type": "code",
   "execution_count": null,
   "id": "28b64645-10c0-4536-8c1e-d935f67f2b63",
   "metadata": {},
   "outputs": [],
   "source": []
  },
  {
   "cell_type": "code",
   "execution_count": null,
   "id": "95b4513a-d0ec-4a19-b5f1-07215e3cec39",
   "metadata": {},
   "outputs": [],
   "source": []
  },
  {
   "cell_type": "markdown",
   "id": "721a9e6f-ebc3-4f25-bfce-206c9537602c",
   "metadata": {},
   "source": [
    "### GSL"
   ]
  },
  {
   "cell_type": "markdown",
   "id": "3c7dee64-73ee-432b-be8a-3c5a54fc204a",
   "metadata": {},
   "source": [
    "http://gnu.ist.utl.pt/software/gsl/manual/html_node/Numerical-Differentiation-Examples.html"
   ]
  },
  {
   "cell_type": "markdown",
   "id": "78111871-588c-440a-9aec-3e31f6e1e569",
   "metadata": {},
   "source": [
    "https://www.gnu.org/software/gsl/doc/html/roots.html\n",
    "\n",
    "https://www.gnu.org/software/gsl/doc/html/diff.html"
   ]
  },
  {
   "cell_type": "markdown",
   "id": "32617bb4-a12d-4376-ab49-9648bbec4c46",
   "metadata": {},
   "source": [
    "```cpp\n",
    "#include <iostream>\n",
    "#include <gsl/gsl_errno.h>\n",
    "#include <gsl/gsl_math.h>\n",
    "#include <gsl/gsl_roots.h>\n",
    "#include <gsl/gsl_deriv.h>\n",
    "\n",
    "// f(x) = x^2 - 4\n",
    "double function(double x, void* params){\n",
    "    return x * x - 4.0;\n",
    "}\n",
    "\n",
    "int main(){\n",
    "\n",
    "    // root search\n",
    "\n",
    "    gsl_function F;\n",
    "    F.function = &function;\n",
    "    F.params = nullptr;\n",
    "    double xLower = 1.0;\n",
    "    double xUpper = 3.0;\n",
    "\n",
    "    const gsl_root_fsolver_type* solverType = gsl_root_fsolver_brent;\n",
    "    gsl_root_fsolver* solver = gsl_root_fsolver_alloc(solverType);\n",
    "    gsl_root_fsolver_set(solver, &F, xLower, xUpper);\n",
    "\n",
    "    int status;\n",
    "    int iter = 0;\n",
    "    int maxIter = 100;\n",
    "    double root;\n",
    "    double epsabs = 0.0;\n",
    "    double epsrel = 1e-6;\n",
    "\n",
    "    do{\n",
    "        iter++;\n",
    "        status = gsl_root_fsolver_iterate(solver);\n",
    "        root = gsl_root_fsolver_root(solver);\n",
    "        xLower = gsl_root_fsolver_x_lower(solver);\n",
    "        xUpper = gsl_root_fsolver_x_upper(solver);\n",
    "        status = gsl_root_test_interval(xLower, xUpper, epsabs, epsrel);\n",
    "        if (status == GSL_SUCCESS){\n",
    "            std::cout << \"Function root found at x = \" << root << std::endl;\n",
    "            break;\n",
    "        }\n",
    "    } while (status == GSL_CONTINUE && iter < maxIter);\n",
    "\n",
    "    gsl_root_fsolver_free(solver);\n",
    "\n",
    "    std::cout << \"=====\" << std::endl;\n",
    "\n",
    "    // derrivative\n",
    "    double result, abserr;\n",
    "    double arg = 2.1;\n",
    "    double h = 1e-8;\n",
    "    gsl_deriv_central(&F, arg, h, &result, &abserr);\n",
    "    std::cout << \"f'(x) = \" << result << \" +/- \" << abserr << std::endl;\n",
    "\n",
    "    return 0;\n",
    "}\n",
    "\n",
    "```"
   ]
  },
  {
   "cell_type": "markdown",
   "id": "a6faf7ad-0edb-45ca-9c13-ffab488a72f0",
   "metadata": {},
   "source": [
    "g++ example6.cpp -o example6 --std=c++17  -lgsl -lgslcblas && ./example6"
   ]
  },
  {
   "cell_type": "markdown",
   "id": "752280ff-4cc8-4270-b3cc-30b06428bc90",
   "metadata": {},
   "source": [
    "## Linear Algebra"
   ]
  },
  {
   "cell_type": "code",
   "execution_count": null,
   "id": "7c4d74e1-698b-4e65-a3ea-ff3c43838a2a",
   "metadata": {},
   "outputs": [],
   "source": []
  },
  {
   "cell_type": "markdown",
   "id": "51343940-739b-4317-a211-4fd93d9796c4",
   "metadata": {},
   "source": [
    "### Armadillo"
   ]
  },
  {
   "cell_type": "markdown",
   "id": "097dac96-82bc-491c-8e0e-9742e52bdfe3",
   "metadata": {},
   "source": [
    "https://github.com/adevress/armadillo/blob/master/examples/example1.cpp\n",
    "\n",
    "https://arma.sourceforge.net/docs.html\n",
    "\n",
    "https://anderkve.github.io/FYS3150/book/introduction_to_cpp/intro_to_armadillo.html"
   ]
  },
  {
   "cell_type": "markdown",
   "id": "89da03db-926e-4dd3-9d07-8a85c6642e7a",
   "metadata": {},
   "source": [
    "```cpp\n",
    "//\n",
    "// Efficient statistical computing with C++ Armadillo\n",
    "//\n",
    "// Maciek Bak\n",
    "// Swiss Institute of Bioinformatics\n",
    "// 15.07.2019\n",
    "//\n",
    "\n",
    "#include <iostream>\n",
    "#include <armadillo>\n",
    "\n",
    "//=============================================================================\n",
    "\n",
    "void armadillo_toy_examples(){\n",
    "  \n",
    "  // Generate a vector from the standard normal distribution\n",
    "  arma::vec v_normal = arma::randn(5);\n",
    "  v_normal.print(\"v_normal:\");\n",
    "\n",
    "  // Create a 4x4 random matrix and print it on the screen\n",
    "  arma::Mat<double> A = arma::randu(4,4);\n",
    "  std::cout << \"A:\\n\" << A << \"\\n\";\n",
    "\n",
    "  // Create a new diagonal matrix using the main diagonal of A:\n",
    "  arma::Mat<double>B = arma::diagmat(A);\n",
    "  std::cout << \"B:\\n\" << B << \"\\n\";\n",
    "\n",
    "  // New matrix: directly specify the matrix size (elements are uninitialised)\n",
    "  arma::mat C(2,3);  // typedef mat  =  Mat<double>\n",
    "  std::cout << \"C.n_rows: \" << C.n_rows << std::endl;\n",
    "  std::cout << \"C.n_cols: \" << C.n_cols << std::endl;\n",
    "\n",
    "  // Directly access an element (indexing starts at 0)\n",
    "  C(1,2) = 456.0;\n",
    "  std::cout << \"C[1][2]:\\n\" << C(1,2) << \"\\n\";\n",
    "  C = 5.5; // scalars are treated as a 1x1 matrix\n",
    "  C.print(\"C:\");\n",
    "\n",
    "  // Inverse\n",
    "  std::cout << \"inv(C): \" << std::endl << inv(C) << std::endl;\n",
    "  \n",
    "  // Rotate a point (0,1) by -Pi/2 ---> (1,0)\n",
    "  arma::vec Position = {0,1};\n",
    "  Position.print(\"Current coordinates of a point:\");\n",
    "  double Pi = 3.14159265359;\n",
    "  double phi = -Pi/2;\n",
    "  arma::mat RotationMatrix = {\n",
    "    {+cos(phi), -sin(phi)},\n",
    "    {+sin(phi), +cos(phi)}\n",
    "  };\n",
    "  Position = RotationMatrix * Position;\n",
    "  Position.print(\"New coordinates of the point:\");\n",
    "}\n",
    "\n",
    "//=============================================================================\n",
    "\n",
    "void armadillo_read_write_objects(){\n",
    "\n",
    "  // Create a 5x5 matrix with random values from uniform distribution on [0;1]\n",
    "  // Save a double matrix to a csv format, then load it.\n",
    "  arma::Mat<double> uniform_matrix = arma::randu(3,5);\n",
    "  uniform_matrix.save(\"data/arma_uniform_matrix.csv\", arma::csv_ascii);\n",
    "  arma::Mat<double> load_matrix;\n",
    "  load_matrix.load(\"data/arma_uniform_matrix.csv\", arma::csv_ascii);\n",
    "\n",
    "  // Armadillo can save directly to files or write to pre-opened streams.\n",
    "  // In order to add column names to output tables we have to write the\n",
    "  // header manually to a file stream and then save the matrix to the stream.\n",
    "  std::ofstream file(\"data/arma_uniform_matrix_with_headers.csv\");\n",
    "  file << \"A,B,C,D,E\" << std::endl;\n",
    "  uniform_matrix.save(file, arma::csv_ascii);\n",
    "  file.close();\n",
    "  //\n",
    "  // As Armadillo objects are numerical structures the input shall not contain\n",
    "  // row/column names. Armadillo should be used only for heavy computations.\n",
    "}\n",
    "\n",
    "//=============================================================================\n",
    "\n",
    "int main(int argc, const char **argv){\n",
    "\n",
    "  std::cout << \"Armadillo version: \" << arma::arma_version::as_string()\n",
    "    << std::endl;\n",
    "\n",
    "  // set RNG seed:\n",
    "  arma::arma_rng::set_seed(0);\n",
    "  //arma::arma_rng::set_seed_random();\n",
    "\n",
    "  armadillo_toy_examples();\n",
    "\n",
    "  armadillo_read_write_objects();\n",
    "\n",
    "  return 0;\n",
    "}\n",
    "\n",
    "```"
   ]
  },
  {
   "cell_type": "markdown",
   "id": "896a9718-e134-4419-bec4-6a0c44314019",
   "metadata": {},
   "source": [
    "g++ example7.cpp -o example7 --std=c++17 -larmadillo  && ./example7"
   ]
  },
  {
   "cell_type": "code",
   "execution_count": null,
   "id": "3b610bc6-1858-4245-9740-32ca6633678d",
   "metadata": {},
   "outputs": [],
   "source": []
  },
  {
   "cell_type": "markdown",
   "id": "a011bcaf-8e0b-4cdc-9274-bb173e9f2caa",
   "metadata": {},
   "source": [
    "### Eigen"
   ]
  },
  {
   "cell_type": "markdown",
   "id": "ada68c21-a69f-4c6f-b301-4f7944071b86",
   "metadata": {},
   "source": [
    "https://eigen.tuxfamily.org/index.php?title=Main_Page#Documentation"
   ]
  },
  {
   "cell_type": "markdown",
   "id": "6003177c-2f30-4da8-b9d5-2f9f32bc91de",
   "metadata": {},
   "source": [
    "```cpp\n",
    "//\n",
    "// Efficient statistical computing with C++ Eigen\n",
    "//\n",
    "// Maciek Bak\n",
    "// Swiss Institute of Bioinformatics\n",
    "// 29.07.2019\n",
    "//\n",
    "\n",
    "#include <iostream>\n",
    "#include <ctime>\n",
    "#include \"Eigen/Dense\"\n",
    "\n",
    "using namespace Eigen;\n",
    "\n",
    "//=============================================================================\n",
    "\n",
    "void eigen_toy_examples(){\n",
    "\n",
    "  // Generate a vector from the standard normal distribution\n",
    "  VectorXd v_normal = VectorXd::Random(5);\n",
    "  std::cout << \"v_normal:\" << std::endl;\n",
    "  std::cout << v_normal << std::endl;\n",
    "\n",
    "  // Create a 4x4 random matrix and print it on the screen\n",
    "  MatrixXd A = MatrixXd::Random(4, 4);\n",
    "  std::cout << \"A:\" << std::endl;\n",
    "  std::cout << A << std::endl;\n",
    "\n",
    "  // Rotate a point (0,1) by -Pi/2 ---> (1,0)\n",
    "  Vector2d Position(0, 1);\n",
    "  std::cout << \"Current coordinates of a point:\" << std::endl;\n",
    "  std::cout << Position << std::endl;\n",
    "  double Pi = 3.14159265359;\n",
    "  double phi = -Pi/2;\n",
    "  // Rotation Matrix:\n",
    "  Matrix2d RotationMatrix;\n",
    "  RotationMatrix << +cos(phi), -sin(phi), +sin(phi), +cos(phi);\n",
    "  Position = RotationMatrix * Position;\n",
    "  std::cout << \"New coordinates of the point:\" << std::endl;\n",
    "  std::cout << Position << std::endl;\n",
    "\n",
    "}\n",
    "\n",
    "//=============================================================================\n",
    "\n",
    "int main(int argc, const char **argv){\n",
    "\n",
    "  std::cout \n",
    "    << \"Eigen version: \"\n",
    "    << EIGEN_WORLD_VERSION\n",
    "    << \".\"\n",
    "    << EIGEN_MAJOR_VERSION\n",
    "    << \".\"\n",
    "    << EIGEN_MINOR_VERSION\n",
    "    << std::endl;\n",
    "\n",
    "  // set RNG seed:\n",
    "  std::srand(0);\n",
    "\n",
    "  eigen_toy_examples();\n",
    "\n",
    "  return 0;\n",
    "}\n",
    "\n",
    "```"
   ]
  },
  {
   "cell_type": "markdown",
   "id": "a8844e25-6c1e-4783-95d7-e14ac11ee844",
   "metadata": {},
   "source": [
    "```\n",
    "g++ example8.cpp -o example8 --std=c++17  && ./example8\n",
    "```"
   ]
  },
  {
   "cell_type": "markdown",
   "id": "fe9a1ba8-2c08-49f0-9a08-d396a14701ce",
   "metadata": {},
   "source": [
    "## Conclusion\n",
    "\n",
    "The code above provides simple use cases of libraries which are specifically useful for scientific computing. The point of this course is not to thoroughly inspect each of the presented tools, rather to provide minimal working examples and navigate the participants in the right directions (the official documenation is usually a good place to start)."
   ]
  },
  {
   "cell_type": "markdown",
   "id": "d272dd06-ef1f-43b2-b5dc-f2ddc2b1bde6",
   "metadata": {},
   "source": [
    "---"
   ]
  }
 ],
 "metadata": {
  "kernelspec": {
   "display_name": "Bash",
   "language": "bash",
   "name": "bash"
  },
  "language_info": {
   "codemirror_mode": "shell",
   "file_extension": ".sh",
   "mimetype": "text/x-sh",
   "name": "bash"
  }
 },
 "nbformat": 4,
 "nbformat_minor": 5
}
