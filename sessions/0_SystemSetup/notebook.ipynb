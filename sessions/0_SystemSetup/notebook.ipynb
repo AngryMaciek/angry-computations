{
 "cells": [
  {
   "cell_type": "markdown",
   "id": "1765e140-ff2e-443f-89d5-3e712da02084",
   "metadata": {},
   "source": [
    "# [Session 0] System setup"
   ]
  },
  {
   "cell_type": "markdown",
   "id": "0a5f1de0-4578-4e18-a481-3b1cae4d7f0d",
   "metadata": {},
   "source": [
    "## General information"
   ]
  },
  {
   "cell_type": "code",
   "execution_count": null,
   "id": "a6796653-17c5-43bf-8bc6-6676e2d5c0e1",
   "metadata": {},
   "outputs": [],
   "source": []
  },
  {
   "cell_type": "code",
   "execution_count": null,
   "id": "bf6798ad-ff94-40c0-818b-f78d6c490c29",
   "metadata": {},
   "outputs": [],
   "source": []
  },
  {
   "cell_type": "markdown",
   "id": "9f5df07c-4aa7-4612-b594-5202efe6de03",
   "metadata": {},
   "source": [
    "## Docker container"
   ]
  },
  {
   "cell_type": "markdown",
   "id": "421cc008-a1bb-44de-a9b1-02b913114239",
   "metadata": {},
   "source": [
    "```dockerfile\n",
    "##### BASE IMAGE #####\n",
    "FROM ubuntu:22.04\n",
    "\n",
    "##### METADATA #####\n",
    "LABEL base.image=\"ubuntu:22.04\"\n",
    "LABEL version=\"1.1.0\"\n",
    "LABEL software=\"efcomp\"\n",
    "LABEL software.description=\"Efficient scientific computing in Python/R/C++\"\n",
    "LABEL software.website=\"https://github.com/AngryMaciek/efcomp\"\n",
    "LABEL software.license=\"GPL-3.0\"\n",
    "LABEL software.tags=\"C++, Python, R, scientific-computing\"\n",
    "LABEL maintainer=\"Maciek Bak\"\n",
    "LABEL maintainer.email=\"wsciekly.maciek@gmail.com\"\n",
    "\n",
    "##### ENVIROMENTAL VARIABLES #####\n",
    "ENV LANG C.UTF-8\n",
    "ENV DEBIAN_FRONTEND noninteractive\n",
    "\n",
    "```"
   ]
  },
  {
   "cell_type": "code",
   "execution_count": null,
   "id": "82f73a2d-ad28-4c92-8e11-2090e9a0f576",
   "metadata": {},
   "outputs": [],
   "source": []
  },
  {
   "cell_type": "markdown",
   "id": "fc0ad79c-42ed-4bc7-bd55-9c3119a25bf9",
   "metadata": {},
   "source": [
    "```dockerfile\n",
    "##### SYSTEM PACKAGES #####\n",
    "RUN apt update \\\n",
    "  && apt install -y make cmake wget r-base python3-pip \\\n",
    "  && update-alternatives --install /usr/bin/python python /usr/bin/python3 1 \\\n",
    "  && apt autoremove -y \\\n",
    "  && apt clean -y \\\n",
    "  && rm -rf /var/lib/apt/lists/* /tmp/* /var/tmp/*\n",
    "\n",
    "```"
   ]
  },
  {
   "cell_type": "code",
   "execution_count": null,
   "id": "30895516-e11b-4940-81dc-65b76b6c6326",
   "metadata": {},
   "outputs": [],
   "source": []
  },
  {
   "cell_type": "markdown",
   "id": "f996b9fa-f7df-42a3-962e-bbf4f6068311",
   "metadata": {},
   "source": [
    "```dockerfile\n",
    "##### COPY THE LEARNING MATERIALS #####\n",
    "COPY sessions /root/sessions\n",
    "WORKDIR /root/sessions\n",
    "\n",
    "CMD [\"/bin/bash\"]\n",
    "\n",
    "```"
   ]
  },
  {
   "cell_type": "markdown",
   "id": "d272dd06-ef1f-43b2-b5dc-f2ddc2b1bde6",
   "metadata": {},
   "source": [
    "---"
   ]
  }
 ],
 "metadata": {
  "kernelspec": {
   "display_name": "Python 3 (ipykernel)",
   "language": "python",
   "name": "python3"
  },
  "language_info": {
   "codemirror_mode": {
    "name": "ipython",
    "version": 3
   },
   "file_extension": ".py",
   "mimetype": "text/x-python",
   "name": "python",
   "nbconvert_exporter": "python",
   "pygments_lexer": "ipython3",
   "version": "3.11.4"
  }
 },
 "nbformat": 4,
 "nbformat_minor": 5
}
