{
 "cells": [
  {
   "cell_type": "markdown",
   "id": "1765e140-ff2e-443f-89d5-3e712da02084",
   "metadata": {},
   "source": [
    "# [Session 0] System setup"
   ]
  },
  {
   "cell_type": "markdown",
   "id": "0a5f1de0-4578-4e18-a481-3b1cae4d7f0d",
   "metadata": {},
   "source": [
    "## General information"
   ]
  },
  {
   "cell_type": "markdown",
   "id": "2aa784c9-7873-425e-9771-d32bf57a52e3",
   "metadata": {},
   "source": [
    "This course is designed such that during each of the sessions participants should read the materials presented in a notebook (like this exact one) and simultaneously, whenever prompted, execute provided scripts in a UNIX shell. I use Jupyter technology here for pure documentation, these notebooks are not intented to be interactive nor executable. For their Markdown support and syntax highlighting these documents are a very convenient solution to prepare a code-based tutorial. In a few places I might present an executed bash command (through a bash kernel for Jupyter) but users should always follow instructions in a separate command line.\n",
    "\n",
    "Thus, an internet browser is essential to follow the course materials, two options are available:\n",
    "* `[local]` clone the git repository and open rendered notebooks in HTML format in your browser\n",
    "* `[remote]` do not clone the repository, navigate through the GitHub and browse notebooks in JSON format (ipynb extension)"
   ]
  },
  {
   "cell_type": "markdown",
   "id": "bf7b957e-0051-4d4c-ba1f-e6f79c254fc1",
   "metadata": {},
   "source": [
    "We will assume that users work on a Linux system, specifically the popular Ubuntu distribution.  \n",
    "Please make sure you have the following software installed and available:\n",
    "* _make_\n",
    "* _cmake_\n",
    "* _wget_\n",
    "* _g++_\n",
    "* _r-base_\n",
    "* _python3 + pip_\n",
    "* _vim_\n",
    "\n",
    "In case any of those is missing in your system you may easily install them with the `apt` package manager:\n",
    "```\n",
    "apt install -y make cmake wget g++ r-base python3-pip vim\n",
    "```"
   ]
  },
  {
   "cell_type": "markdown",
   "id": "f130757c-d1ff-4503-b762-d978ead579ab",
   "metadata": {},
   "source": [
    "Please test these tools with the following commands:\n",
    "```\n",
    "make --version\n",
    "cmake --version\n",
    "wget --version\n",
    "g++ --version\n",
    "R --version\n",
    "python3 --version\n",
    "vim --version\n",
    "```"
   ]
  },
  {
   "cell_type": "markdown",
   "id": "9f5df07c-4aa7-4612-b594-5202efe6de03",
   "metadata": {},
   "source": [
    "## Docker container"
   ]
  },
  {
   "cell_type": "markdown",
   "id": "797ef642-ed3a-4473-8f10-80126cbd0901",
   "metadata": {},
   "source": [
    "For users who do not operate on Ubuntu machines we have prepared a dedicated Docker image with all the prerequisites already in place.  \n",
    "Those who already set up their system as in the previous description may skip this section.\n",
    "\n",
    "Docker Engine itself becomes the one and only dependency.  \n",
    "Please go through the [official Docker documentation](https://docs.docker.com/engine/install/) for instructions on how to set it up on your operating system."
   ]
  },
  {
   "cell_type": "markdown",
   "id": "45841051-90b9-418f-9b45-ccf2c570de40",
   "metadata": {},
   "source": [
    "In order to pull the image prepared for this course one should execute:\n",
    "```\n",
    "docker pull angrymaciek/efcomp:latest\n",
    "```\n",
    "\n",
    "That command needs to be executed only once.  \n",
    "Having the image available locally we may now build Docker containers based on it.\n",
    "\n",
    "Start the container with:\n",
    "```\n",
    "docker run --name efcomp -it efcomp:latest\n",
    "```\n",
    "\n",
    "Please note that the container environment is temporary; after exiting it one should delete the old container before starting a new one:\n",
    "```\n",
    "docker rm efcomp\n",
    "```"
   ]
  },
  {
   "cell_type": "markdown",
   "id": "977e1e44-3f7a-4071-8091-4dc520e1641d",
   "metadata": {},
   "source": [
    "### Docker image design"
   ]
  },
  {
   "cell_type": "markdown",
   "id": "471436c1-a3e5-4aae-9070-920e771aef91",
   "metadata": {},
   "source": [
    "This may come as bonus subsection but let us break down the _Dockerfile_ of the repository, which is a recipe for the above mentioned Docker image. This is a course in scientific computing, after all."
   ]
  },
  {
   "cell_type": "markdown",
   "id": "396b1c60-b403-4e1f-9de0-c539e86b04c3",
   "metadata": {},
   "source": [
    "The first section specifies the base image for this recipe, in our case Ubuntu LTS edition.  \n",
    "This is followed by a few lines of my own metadata specification for the image (`LABEL` keyword).  \n",
    "Finally, we set two important environmental variables inside the container:\n",
    "* `LANG=C.UTF-8` : This variable defines the default locale for the container. In this case, it is set to use the UTF-8 character encoding, which is a widely used character encoding for internationalization and multilingual support\n",
    "* `DEBIAN_FRONTEND=noninteractive` : This variable is used by many package managers (such as `apt`) to control their interaction mode. By setting it to noninteractive, you are telling the package manager not to prompt for any user input during package installations or upgrades. This is useful in automated build scenarios where there may not be a terminal for interactive input (as the case is for a Docker image build process)"
   ]
  },
  {
   "cell_type": "markdown",
   "id": "421cc008-a1bb-44de-a9b1-02b913114239",
   "metadata": {},
   "source": [
    "```dockerfile\n",
    "##### BASE IMAGE #####\n",
    "FROM ubuntu:22.04\n",
    "\n",
    "##### METADATA #####\n",
    "LABEL base.image=\"ubuntu:22.04\"\n",
    "LABEL version=\"1.1.0\"\n",
    "LABEL software=\"efcomp\"\n",
    "LABEL software.description=\"Efficient scientific computing in Python/R/C++\"\n",
    "LABEL software.website=\"https://github.com/AngryMaciek/efcomp\"\n",
    "LABEL software.license=\"GPL-3.0\"\n",
    "LABEL software.tags=\"C++, Python, R, scientific-computing\"\n",
    "LABEL maintainer=\"Maciek Bak\"\n",
    "LABEL maintainer.email=\"wsciekly.maciek@gmail.com\"\n",
    "\n",
    "##### ENVIROMENTAL VARIABLES #####\n",
    "ENV LANG C.UTF-8\n",
    "ENV DEBIAN_FRONTEND noninteractive\n",
    "\n",
    "```"
   ]
  },
  {
   "cell_type": "markdown",
   "id": "c440e352-fb78-44b7-856c-8ef1e7595aef",
   "metadata": {},
   "source": [
    "In the next secion we install all previously listed dependencies. The official Docker image of _Ubuntu 22.04_ do not come with these preinstalled therefore we shall use `apt` command to include them into our course-dedicated image. Upon completed installation we create a symbolic link to the Python interpreter (`python` points to the new `python3`) and clean up all the temporary files created during the process."
   ]
  },
  {
   "cell_type": "markdown",
   "id": "fc0ad79c-42ed-4bc7-bd55-9c3119a25bf9",
   "metadata": {},
   "source": [
    "```dockerfile\n",
    "##### SYSTEM PACKAGES #####\n",
    "RUN apt update \\\n",
    "  && apt install -y make cmake wget g++ r-base python3-pip \\\n",
    "  && update-alternatives --install /usr/bin/python python /usr/bin/python3 1 \\\n",
    "  && apt autoremove -y \\\n",
    "  && apt clean -y \\\n",
    "  && rm -rf /var/lib/apt/lists/* /tmp/* /var/tmp/*\n",
    "```"
   ]
  },
  {
   "cell_type": "markdown",
   "id": "a3e18850-d0ca-4832-8af4-2254fc66f172",
   "metadata": {},
   "source": [
    "The last part of the _Dockerfile_ copies the necessary course materials into the Docker image, sets a working directory inside and specifies the the default command and/or parameters that will be executed when a container based on the Docker image is run."
   ]
  },
  {
   "cell_type": "markdown",
   "id": "f996b9fa-f7df-42a3-962e-bbf4f6068311",
   "metadata": {},
   "source": [
    "```dockerfile\n",
    "##### COPY THE LEARNING MATERIALS #####\n",
    "COPY sessions /root/sessions\n",
    "WORKDIR /root/sessions\n",
    "\n",
    "CMD [\"/bin/bash\"]\n",
    "\n",
    "```"
   ]
  },
  {
   "cell_type": "markdown",
   "id": "914833bd-a7d1-48e3-8f35-cc4215a18e86",
   "metadata": {},
   "source": [
    "A complete list of all the _Dockerfile_ keywords is available at:  \n",
    "https://docs.docker.com/engine/reference/builder/"
   ]
  },
  {
   "cell_type": "markdown",
   "id": "683969c4-4c21-4cd2-be15-2c6e8db95b05",
   "metadata": {},
   "source": [
    "## GitHub Codespaces"
   ]
  },
  {
   "cell_type": "markdown",
   "id": "db95ad7f-55b5-4a84-9ac3-e3c42c7b71b3",
   "metadata": {},
   "source": [
    "If both of the suggested methods fail for you (i.e. no Linux machine available, Docker set up fails) there is one more alternative to try out, provided you have a GitHub account. We may \"hack\" the built-in _Codespaces_ mechanism and use it not for a development environment but for a cloud-based execution container. Read more about GitHub Codespaces under [this link](https://github.com/features/codespaces).\n",
    "\n",
    "I have prepared a codespace recipe for this repository to start in the same container as described above.  \n",
    "\n",
    "In order to start the environment please navigate to my repository page and then click the green button `Code`, followed by `Create codespace on master`. A new interactive development environment should start with a Visual Studio code IDE. The IDE part is not as relevant as the fact that we have an interactive bash shell running inside the project-specific container."
   ]
  },
  {
   "cell_type": "markdown",
   "id": "455dac9f-ccb9-4c90-b94f-e4bb40d747a9",
   "metadata": {},
   "source": [
    "## Final words"
   ]
  },
  {
   "cell_type": "markdown",
   "id": "22fe544c-e926-4f56-9d03-a26fc9d813fc",
   "metadata": {},
   "source": [
    "All in all, this short session was dedicated to setting up desired workspace for the whole course.  \n",
    "Regardless whether that would be on your own operating system or inside a Docker container.  \n",
    "**Please make sure you are prepared before progressing any further.**"
   ]
  },
  {
   "cell_type": "markdown",
   "id": "d272dd06-ef1f-43b2-b5dc-f2ddc2b1bde6",
   "metadata": {},
   "source": [
    "---"
   ]
  }
 ],
 "metadata": {
  "kernelspec": {
   "display_name": "Bash",
   "language": "bash",
   "name": "bash"
  },
  "language_info": {
   "codemirror_mode": "shell",
   "file_extension": ".sh",
   "mimetype": "text/x-sh",
   "name": "bash"
  }
 },
 "nbformat": 4,
 "nbformat_minor": 5
}
