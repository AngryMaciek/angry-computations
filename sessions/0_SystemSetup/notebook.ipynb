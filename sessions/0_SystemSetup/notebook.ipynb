{
 "cells": [
  {
   "cell_type": "markdown",
   "id": "1765e140-ff2e-443f-89d5-3e712da02084",
   "metadata": {},
   "source": [
    "# [Session 0] System setup"
   ]
  },
  {
   "cell_type": "markdown",
   "id": "0a5f1de0-4578-4e18-a481-3b1cae4d7f0d",
   "metadata": {},
   "source": [
    "This is a template for a _Bash_ notebook in your new project. 🙂  \n",
    "Please remember to nicely document all your work in _Markdown_ cells (like this one) using [Markdown cheatsheet](https://www.markdownguide.org/basic-syntax/).  \n",
    "By the way: did you know that these cells know how to parse $\\TeX$ too?"
   ]
  },
  {
   "cell_type": "code",
   "execution_count": 1,
   "id": "a53f89ee-8599-4334-b604-23f5f9162428",
   "metadata": {},
   "outputs": [],
   "source": [
    "# Print Hello World! message.\n",
    "function HelloWorld {  \n",
    "   echo \"Hello World!\"\n",
    "}"
   ]
  },
  {
   "cell_type": "code",
   "execution_count": 2,
   "id": "16cbabdf-2de5-4336-9333-44b9b290b957",
   "metadata": {},
   "outputs": [
    {
     "name": "stdout",
     "output_type": "stream",
     "text": [
      "Hello World!\n"
     ]
    }
   ],
   "source": [
    "HelloWorld"
   ]
  },
  {
   "cell_type": "markdown",
   "id": "d272dd06-ef1f-43b2-b5dc-f2ddc2b1bde6",
   "metadata": {},
   "source": [
    "---"
   ]
  }
 ],
 "metadata": {
  "kernelspec": {
   "display_name": "Bash",
   "language": "bash",
   "name": "bash"
  },
  "language_info": {
   "codemirror_mode": "shell",
   "file_extension": ".sh",
   "mimetype": "text/x-sh",
   "name": "bash"
  }
 },
 "nbformat": 4,
 "nbformat_minor": 5
}
